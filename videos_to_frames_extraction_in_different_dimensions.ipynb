
# ==================================================
# Video to Frames Extraction in Different Dimensions
# ==================================================

import os
import cv2
from pathlib import Path
from tqdm import tqdm  

# =========================
# Define sizes and folders
# =========================
RESIZE_CONFIGS = {
    "1920x1080 (Full HD)": (1920, 1080),
    "1280x720 (HD)": (1280, 720),
    "640x480 (SD)": (640, 480),
    "416x416": (416, 416),
    "608x608": (608, 608),
    "224x224": (224, 224),
    "256x256": (256, 256),
    "1920x1080_Nearfield": (960, 540),
}

# =========================
# Helper: Create folders
# =========================
def ensure_dir(path):
    os.makedirs(path, exist_ok=True)

# =========================
# Helper: Extract center crop
# =========================
def crop_center(img, cropx, cropy):
    y, x, _ = img.shape
    startx = x // 2 - cropx // 2
    starty = y // 2 - cropy // 2
    return img[starty:starty+cropy, startx:startx+cropx]

# =========================
# Main Function
# =========================
def process_videos(input_root, output_root):
    input_root = Path(input_root)
    output_root = Path(output_root)

    # Validate input directory
    if not input_root.exists():
        print(f"Error: Input directory {input_root} does not exist")
        return

    video_paths = list(input_root.rglob("*.mp4")) + list(input_root.rglob("*.mkv"))
    if not video_paths:
        print(f"No .mp4 or .mkv files found in {input_root}")
        return

    for video_path in tqdm(video_paths, desc="Processing videos"):
        rel_path = video_path.relative_to(input_root)
        video_name = video_path.stem

        print(f"Processing video: {rel_path}")
        
        # Initialize video capture
        cap = cv2.VideoCapture(str(video_path))
        if not cap.isOpened():
            print(f"Error: Could not open video {video_path}")
            continue

        frame_idx = 0
        total_frames = int(cap.get(cv2.CAP_PROP_FRAME_COUNT))

        for _ in tqdm(range(total_frames), desc=f"Frames in {video_name}", leave=False):
            ret, frame = cap.read()
            if not ret:
                break

            frame_idx += 1
            for folder_name, size in RESIZE_CONFIGS.items():
                resized_folder = output_root / rel_path.parent / folder_name / video_name
                ensure_dir(resized_folder)
                
                output_filename = resized_folder / f"{frame_idx:05d}.png"
                
                # Skip if output file already exists
                if output_filename.exists():
                    continue

                try:
                    if folder_name == "1920x1080_Nearfield":
                        resized_frame = cv2.resize(frame, (1920, 1080))
                        cropped = crop_center(resized_frame, size[0], size[1])
                        output_frame = cropped
                    else:
                        output_frame = cv2.resize(frame, size)

                    cv2.imwrite(str(output_filename), output_frame)
                except Exception as e:
                    print(f"Error processing frame {frame_idx} for {folder_name}: {e}")

        cap.release()

# =========================
# Run on Multiple Folders
# =========================
if __name__ == "__main__":
    input_folders = [
        "input/folder1",
        "input/folder2",
        "input/folder3",
        "input/folder4",
        "input/folder5",
        "input/folder6",
    ]
    output_base = "output_folder"
    
    for folder in input_folders:
        print(f"Starting processing for folder: {folder}")
        process_videos(folder, output_base)
    
    print("Done processing all videos.")
