{
 "cells": [
  {
   "cell_type": "markdown",
   "id": "afad0a4c",
   "metadata": {},
   "source": [
    "### Resize images from (1080,1920,2) to (480,854,2) "
   ]
  },
  {
   "cell_type": "code",
   "execution_count": 1,
   "id": "e413ef8e",
   "metadata": {},
   "outputs": [],
   "source": [
    "import cv2\n",
    "import glob\n",
    "import os\n",
    "\n",
    "input_folder = 'input' \n",
    "output_folder = 'out'  \n",
    "\n",
    "os.makedirs(output_folder, exist_ok=True)\n",
    "image_files = glob.glob(os.path.join(input_folder, '*.jpg'))\n",
    "\n",
    "# Target width and height\n",
    "new_width, new_height = 854, 480\n",
    "\n",
    "for image_file in image_files:\n",
    "    # Load the image with shape (1080, 1920, 2)\n",
    "    image = cv2.imread(image_file, cv2.IMREAD_UNCHANGED)\n",
    "    # Resize the image to (480, 854, 2)\n",
    "    resized_image = cv2.resize(image, (new_width, new_height))\n",
    "    output_file = os.path.join(output_folder, os.path.basename(image_file))\n",
    "    cv2.imwrite(output_file, resized_image)"
   ]
  },
  {
   "cell_type": "code",
   "execution_count": null,
   "id": "06292c92",
   "metadata": {},
   "outputs": [],
   "source": []
  }
 ],
 "metadata": {
  "kernelspec": {
   "display_name": "Python 3 (ipykernel)",
   "language": "python",
   "name": "python3"
  },
  "language_info": {
   "codemirror_mode": {
    "name": "ipython",
    "version": 3
   },
   "file_extension": ".py",
   "mimetype": "text/x-python",
   "name": "python",
   "nbconvert_exporter": "python",
   "pygments_lexer": "ipython3",
   "version": "3.8.13"
  }
 },
 "nbformat": 4,
 "nbformat_minor": 5
}
