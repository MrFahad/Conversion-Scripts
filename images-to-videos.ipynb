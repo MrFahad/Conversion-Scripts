{
 "cells": [
  {
   "cell_type": "markdown",
   "id": "d8dce683",
   "metadata": {},
   "source": [
    "### Images - to - Videos Conversion"
   ]
  },
  {
   "cell_type": "code",
   "execution_count": null,
   "id": "2c5e3373",
   "metadata": {},
   "outputs": [],
   "source": [
    "import cv2\n",
    "import os\n",
    "\n",
    "def images_to_video(image_folder, video_path, fps):\n",
    "    image_files = [f for f in os.listdir(image_folder) if f.endswith('.png') or f.endswith('.png')]\n",
    "    image_files.sort()  \n",
    "\n",
    "    first_image = cv2.imread(os.path.join(image_folder, image_files[0]))\n",
    "    height, width, _ = first_image.shape\n",
    "\n",
    "    fourcc = cv2.VideoWriter_fourcc(*'mp4v')  \n",
    "    video_writer = cv2.VideoWriter(video_path, fourcc, fps, (width, height))\n",
    "\n",
    "    for image_file in image_files:\n",
    "        image_path = os.path.join(image_folder, image_file)\n",
    "        image = cv2.imread(image_path)\n",
    "        video_writer.write(image)\n",
    "\n",
    "    video_writer.release()\n",
    "\n",
    "image_folder = \"abc\"\n",
    "video_path = \"xyz.mp4\"  \n",
    "fps = 25\n",
    "images_to_video(image_folder, video_path, fps)"
   ]
  },
  {
   "cell_type": "code",
   "execution_count": null,
   "id": "505bbf8d",
   "metadata": {},
   "outputs": [],
   "source": [
    "from ipywidgets import Video\n",
    "Video.from_file('xyz.mp4', width=320, height=320)"
   ]
  },
  {
   "cell_type": "code",
   "execution_count": null,
   "id": "5b2cd7ca",
   "metadata": {},
   "outputs": [],
   "source": []
  }
 ],
 "metadata": {
  "kernelspec": {
   "display_name": "Python 3 (ipykernel)",
   "language": "python",
   "name": "python3"
  },
  "language_info": {
   "codemirror_mode": {
    "name": "ipython",
    "version": 3
   },
   "file_extension": ".py",
   "mimetype": "text/x-python",
   "name": "python",
   "nbconvert_exporter": "python",
   "pygments_lexer": "ipython3",
   "version": "3.8.13"
  }
 },
 "nbformat": 4,
 "nbformat_minor": 5
}
