## Install the below library first.
============================
## !pip install rarfile
============================

import os
import rarfile

def extract_rars_in_directory(root_dir):
    rarfile.UNRAR_TOOL = "unrar"

    for foldername, subfolders, filenames in os.walk(root_dir):
        for filename in filenames:
            if filename.lower().endswith('.rar'):
                rar_path = os.path.join(foldername, filename)
                extract_path = foldername 

                try:
                    print(f"Extracting: {rar_path}")
                    with rarfile.RarFile(rar_path) as rf:
                        rf.extractall(path=extract_path)
                    print(f"✓ Extracted to: {extract_path}\n")
                except rarfile.BadRarFile:
                    print(f"✗ Bad RAR file: {rar_path}")
                except Exception as e:
                    print(f"✗ Failed to extract {rar_path}: {e}")

if __name__ == "__main__":
    import os
    root_folder = os.getcwd() 
    extract_rars_in_directory(root_folder)
