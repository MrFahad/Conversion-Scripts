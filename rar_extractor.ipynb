{
 "cells": [
  {
   "cell_type": "code",
   "execution_count": null,
   "id": "0028d5c0-d5d8-417c-a611-7760596089d1",
   "metadata": {},
   "outputs": [],
   "source": [
    "!pip install rarfile"
   ]
  },
  {
   "cell_type": "code",
   "execution_count": null,
   "id": "823baf30-e9fa-4944-8ee6-cd3cad2b4745",
   "metadata": {},
   "outputs": [
    {
     "name": "stdout",
     "output_type": "stream",
     "text": [
      "Extracting: D:\\Desk\\Fahad\\EchoNet\\Video_Data\\EuroChamp\\欧冠\\Euro\\【90分钟足球网】11月25日 欧冠小组赛第5轮 尤文图斯vs曼城 全场 1080I BT 英语\\20151125-JUV-MNC-UCL_1.part1.rar\n",
      "✓ Extracted to: D:\\Desk\\Fahad\\EchoNet\\Video_Data\\EuroChamp\\欧冠\\Euro\\【90分钟足球网】11月25日 欧冠小组赛第5轮 尤文图斯vs曼城 全场 1080I BT 英语\n",
      "\n",
      "Extracting: D:\\Desk\\Fahad\\EchoNet\\Video_Data\\EuroChamp\\欧冠\\Euro\\【90分钟足球网】11月25日 欧冠小组赛第5轮 尤文图斯vs曼城 全场 1080I BT 英语\\20151125-JUV-MNC-UCL_1.part2.rar\n",
      "✗ Failed to extract D:\\Desk\\Fahad\\EchoNet\\Video_Data\\EuroChamp\\欧冠\\Euro\\【90分钟足球网】11月25日 欧冠小组赛第5轮 尤文图斯vs曼城 全场 1080I BT 英语\\20151125-JUV-MNC-UCL_1.part2.rar: Need to start from first volume (current: 1)\n",
      "Extracting: D:\\Desk\\Fahad\\EchoNet\\Video_Data\\EuroChamp\\欧冠\\Euro\\【90分钟足球网】11月25日 欧冠小组赛第5轮 尤文图斯vs曼城 全场 1080I BT 英语\\20151125-JUV-MNC-UCL_1.part3.rar\n",
      "✗ Failed to extract D:\\Desk\\Fahad\\EchoNet\\Video_Data\\EuroChamp\\欧冠\\Euro\\【90分钟足球网】11月25日 欧冠小组赛第5轮 尤文图斯vs曼城 全场 1080I BT 英语\\20151125-JUV-MNC-UCL_1.part3.rar: Need to start from first volume (current: 2)\n",
      "Extracting: D:\\Desk\\Fahad\\EchoNet\\Video_Data\\EuroChamp\\欧冠\\Euro\\【90分钟足球网】11月25日 欧冠小组赛第5轮 尤文图斯vs曼城 全场 1080I BT 英语\\20151125-JUV-MNC-UCL_1.part4.rar\n",
      "✗ Failed to extract D:\\Desk\\Fahad\\EchoNet\\Video_Data\\EuroChamp\\欧冠\\Euro\\【90分钟足球网】11月25日 欧冠小组赛第5轮 尤文图斯vs曼城 全场 1080I BT 英语\\20151125-JUV-MNC-UCL_1.part4.rar: Need to start from first volume (current: 3)\n",
      "Extracting: D:\\Desk\\Fahad\\EchoNet\\Video_Data\\EuroChamp\\欧冠\\Euro\\【90分钟足球网】11月25日 欧冠小组赛第5轮 尤文图斯vs曼城 全场 1080I BT 英语\\20151125-JUV-MNC-UCL_1.part5.rar\n",
      "✗ Failed to extract D:\\Desk\\Fahad\\EchoNet\\Video_Data\\EuroChamp\\欧冠\\Euro\\【90分钟足球网】11月25日 欧冠小组赛第5轮 尤文图斯vs曼城 全场 1080I BT 英语\\20151125-JUV-MNC-UCL_1.part5.rar: Need to start from first volume (current: 4)\n",
      "Extracting: D:\\Desk\\Fahad\\EchoNet\\Video_Data\\EuroChamp\\欧冠\\Euro\\【90分钟足球网】11月25日 欧冠小组赛第5轮 尤文图斯vs曼城 全场 1080I BT 英语\\20151125-JUV-MNC-UCL_2.part1.rar\n",
      "✓ Extracted to: D:\\Desk\\Fahad\\EchoNet\\Video_Data\\EuroChamp\\欧冠\\Euro\\【90分钟足球网】11月25日 欧冠小组赛第5轮 尤文图斯vs曼城 全场 1080I BT 英语\n",
      "\n",
      "Extracting: D:\\Desk\\Fahad\\EchoNet\\Video_Data\\EuroChamp\\欧冠\\Euro\\【90分钟足球网】11月25日 欧冠小组赛第5轮 尤文图斯vs曼城 全场 1080I BT 英语\\20151125-JUV-MNC-UCL_2.part2.rar\n",
      "✗ Failed to extract D:\\Desk\\Fahad\\EchoNet\\Video_Data\\EuroChamp\\欧冠\\Euro\\【90分钟足球网】11月25日 欧冠小组赛第5轮 尤文图斯vs曼城 全场 1080I BT 英语\\20151125-JUV-MNC-UCL_2.part2.rar: Need to start from first volume (current: 1)\n",
      "Extracting: D:\\Desk\\Fahad\\EchoNet\\Video_Data\\EuroChamp\\欧冠\\Euro\\【90分钟足球网】11月25日 欧冠小组赛第5轮 尤文图斯vs曼城 全场 1080I BT 英语\\20151125-JUV-MNC-UCL_2.part3.rar\n",
      "✗ Failed to extract D:\\Desk\\Fahad\\EchoNet\\Video_Data\\EuroChamp\\欧冠\\Euro\\【90分钟足球网】11月25日 欧冠小组赛第5轮 尤文图斯vs曼城 全场 1080I BT 英语\\20151125-JUV-MNC-UCL_2.part3.rar: Need to start from first volume (current: 2)\n",
      "Extracting: D:\\Desk\\Fahad\\EchoNet\\Video_Data\\EuroChamp\\欧冠\\Euro\\【90分钟足球网】11月25日 欧冠小组赛第5轮 尤文图斯vs曼城 全场 1080I BT 英语\\20151125-JUV-MNC-UCL_2.part4.rar\n",
      "✗ Failed to extract D:\\Desk\\Fahad\\EchoNet\\Video_Data\\EuroChamp\\欧冠\\Euro\\【90分钟足球网】11月25日 欧冠小组赛第5轮 尤文图斯vs曼城 全场 1080I BT 英语\\20151125-JUV-MNC-UCL_2.part4.rar: Need to start from first volume (current: 3)\n",
      "Extracting: D:\\Desk\\Fahad\\EchoNet\\Video_Data\\EuroChamp\\欧冠\\Euro\\【90分钟足球网】11月25日 欧冠小组赛第5轮 尤文图斯vs曼城 全场 1080I BT 英语\\20151125-JUV-MNC-UCL_2.part5.rar\n",
      "✗ Failed to extract D:\\Desk\\Fahad\\EchoNet\\Video_Data\\EuroChamp\\欧冠\\Euro\\【90分钟足球网】11月25日 欧冠小组赛第5轮 尤文图斯vs曼城 全场 1080I BT 英语\\20151125-JUV-MNC-UCL_2.part5.rar: Need to start from first volume (current: 4)\n",
      "Extracting: D:\\Desk\\Fahad\\EchoNet\\Video_Data\\EuroChamp\\欧冠\\Euro\\【90分钟足球网】11月25日 欧冠小组赛第5轮 拜仁vs奥林匹亚科斯 全场 1080I SKY 德语\\20151124-BAY-OLY-UCL_1.part1.rar\n"
     ]
    }
   ],
   "source": [
    "import os\n",
    "import rarfile\n",
    "\n",
    "def extract_rars_in_directory(root_dir):\n",
    "    rarfile.UNRAR_TOOL = \"unrar\"\n",
    "\n",
    "    for foldername, subfolders, filenames in os.walk(root_dir):\n",
    "        for filename in filenames:\n",
    "            if filename.lower().endswith('.rar'):\n",
    "                rar_path = os.path.join(foldername, filename)\n",
    "                extract_path = foldername \n",
    "\n",
    "                try:\n",
    "                    print(f\"Extracting: {rar_path}\")\n",
    "                    with rarfile.RarFile(rar_path) as rf:\n",
    "                        rf.extractall(path=extract_path)\n",
    "                    print(f\"✓ Extracted to: {extract_path}\\n\")\n",
    "                except rarfile.BadRarFile:\n",
    "                    print(f\"✗ Bad RAR file: {rar_path}\")\n",
    "                except Exception as e:\n",
    "                    print(f\"✗ Failed to extract {rar_path}: {e}\")\n",
    "\n",
    "if __name__ == \"__main__\":\n",
    "    import os\n",
    "    root_folder = os.getcwd() \n",
    "    extract_rars_in_directory(root_folder)"
   ]
  },
  {
   "cell_type": "code",
   "execution_count": null,
   "id": "9840bba6-2c2a-4081-8f0a-d3dccaffc622",
   "metadata": {},
   "outputs": [],
   "source": []
  }
 ],
 "metadata": {
  "kernelspec": {
   "display_name": "Python 3 (ipykernel)",
   "language": "python",
   "name": "python3"
  },
  "language_info": {
   "codemirror_mode": {
    "name": "ipython",
    "version": 3
   },
   "file_extension": ".py",
   "mimetype": "text/x-python",
   "name": "python",
   "nbconvert_exporter": "python",
   "pygments_lexer": "ipython3",
   "version": "3.9.7"
  }
 },
 "nbformat": 4,
 "nbformat_minor": 5
}
