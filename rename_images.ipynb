{
 "cells": [
  {
   "cell_type": "markdown",
   "id": "554b5011",
   "metadata": {},
   "source": [
    "### Renaming list of images in a folder"
   ]
  },
  {
   "cell_type": "code",
   "execution_count": 1,
   "id": "641d1e3d",
   "metadata": {},
   "outputs": [
    {
     "name": "stdout",
     "output_type": "stream",
     "text": [
      "Renamed 74 files.\n"
     ]
    }
   ],
   "source": [
    "import os\n",
    "import glob\n",
    "\n",
    "input_folder = 'images'  \n",
    "output_folder = 'images_output' \n",
    "\n",
    "os.makedirs(output_folder, exist_ok=True)\n",
    "image_files = glob.glob(os.path.join(input_folder, '*.jpg'))\n",
    "\n",
    "file_counter = 0\n",
    "\n",
    "for image_file in image_files:\n",
    "    new_filename = f'{file_counter:01d}.jpg'\n",
    "    old_path = image_file\n",
    "    new_path = os.path.join(output_folder, new_filename)\n",
    "    os.rename(old_path, new_path)\n",
    "    file_counter += 1\n",
    "\n",
    "print(f'Renamed {file_counter} files.')"
   ]
  },
  {
   "cell_type": "code",
   "execution_count": null,
   "id": "19533bd9",
   "metadata": {},
   "outputs": [],
   "source": []
  }
 ],
 "metadata": {
  "kernelspec": {
   "display_name": "Python 3 (ipykernel)",
   "language": "python",
   "name": "python3"
  },
  "language_info": {
   "codemirror_mode": {
    "name": "ipython",
    "version": 3
   },
   "file_extension": ".py",
   "mimetype": "text/x-python",
   "name": "python",
   "nbconvert_exporter": "python",
   "pygments_lexer": "ipython3",
   "version": "3.8.13"
  }
 },
 "nbformat": 4,
 "nbformat_minor": 5
}
