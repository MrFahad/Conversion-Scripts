# ==========================
# .MKV to .MP4 Conversion
# ==========================

import os
import ffmpeg
from pathlib import Path

def convert_mkv_to_mp4(input_path, output_path):
    """Convert a single MKV file to MP4 using ffmpeg-python."""
    try:
        stream = ffmpeg.input(input_path)
        stream = ffmpeg.output(stream, output_path, vcodec='copy', acodec='copy', loglevel='error')
        ffmpeg.run(stream)
        print(f"Converted: {input_path} -> {output_path}")
    except ffmpeg.Error as e:
        print(f"Error converting {input_path}: {e}")

def process_directory(input_dir, output_dir):
    """Recursively process all MKV files in input_dir and save to output_dir."""
    input_dir = Path(input_dir).resolve()
    output_dir = Path(output_dir).resolve()
    
    # Create output directory if it doesn't exist
    output_dir.mkdir(parents=True, exist_ok=True)
    
    # Walk through directory and subdirectories
    for root, _, files in os.walk(input_dir):
        for file in files:
            if file.lower().endswith('.mkv'):
                # Construct input and output paths
                input_file = Path(root) / file
                relative_path = input_file.relative_to(input_dir)
                output_file = output_dir / relative_path.with_suffix('.mp4')
                
                # Create output subdirectory if it doesn't exist
                output_file.parent.mkdir(parents=True, exist_ok=True)
                
                # Convert the file
                convert_mkv_to_mp4(str(input_file), str(output_file))

def main():
    # Define input and output directories
    input_directory = input("Enter the input directory path containing MKV files: ")
    output_directory = input("Enter the output directory path for MP4 files: ")
    
    # Validate directories
    if not os.path.exists(input_directory):
        print(f"Error: Input directory '{input_directory}' does not exist.")
        return
    
    print(f"Processing files from {input_directory}...")
    process_directory(input_directory, output_directory)
    print("Conversion complete!")

if __name__ == "__main__":
    main()
