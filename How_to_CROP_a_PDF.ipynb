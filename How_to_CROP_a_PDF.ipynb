{
 "cells": [
  {
   "cell_type": "markdown",
   "id": "1f406b8d",
   "metadata": {},
   "source": [
    "### How to Crop a PDF File.\n",
    "> Sequenyially OR Randomly"
   ]
  },
  {
   "cell_type": "code",
   "execution_count": null,
   "id": "08167ca9",
   "metadata": {},
   "outputs": [],
   "source": [
    "# run once\n",
    "!pip install -q pypdf2"
   ]
  },
  {
   "cell_type": "code",
   "execution_count": null,
   "id": "57e9a0fd",
   "metadata": {},
   "outputs": [],
   "source": [
    "from PyPDF2 import PdfReader, PdfWriter\n",
    "\n",
    "input_filename = 'abc.pdf'\n",
    "output_filename = 'xyz.pdf'\n",
    "\n",
    "#pages = (9,13)                # For Sequentialy\n",
    "pages_to_keep = list(range(0, 8)) + list(range(13, 16))   # For Randomly\n",
    "\n",
    "pdf = PdfReader(input_filename)\n",
    "print(len(pdf.pages), 'pages in input.')\n",
    "writer = PdfWriter()\n",
    "\n",
    "for n, page in enumerate(pdf.pages):\n",
    "   # if n>=pages[0]-1 and n<=pages[1]-1: # For Sequentialy\n",
    "    if n in pages_to_keep:               # For Randomly\n",
    "        writer.add_page(page)\n",
    "\n",
    "print(len(writer.pages), 'pages in output.')\n",
    "\n",
    "try:\n",
    "    with open(output_filename, 'wb') as output_file:\n",
    "        writer.write(output_file)\n",
    "except PermissionError as err:\n",
    "    print(err, '\\nIf the file is opened by another application, please close and try again.')"
   ]
  }
 ],
 "metadata": {
  "kernelspec": {
   "display_name": "Python 3 (ipykernel)",
   "language": "python",
   "name": "python3"
  },
  "language_info": {
   "codemirror_mode": {
    "name": "ipython",
    "version": 3
   },
   "file_extension": ".py",
   "mimetype": "text/x-python",
   "name": "python",
   "nbconvert_exporter": "python",
   "pygments_lexer": "ipython3",
   "version": "3.8.13"
  }
 },
 "nbformat": 4,
 "nbformat_minor": 5
}
