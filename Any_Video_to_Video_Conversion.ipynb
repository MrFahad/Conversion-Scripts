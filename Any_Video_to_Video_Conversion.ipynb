import os
import ffmpeg
from pathlib import Path

# Supported video extensions
VIDEO_EXTENSIONS = {'.mp4', '.mkv', '.avi', '.mov', '.ts', '.flv', '.wmv', '.webm', '.mpeg', '.mpg'}

def convert_video(input_path, output_path):
    """Convert a video file to the desired format using ffmpeg-python."""
    try:
        stream = ffmpeg.input(input_path)
        stream = ffmpeg.output(stream, output_path, vcodec='copy', acodec='copy', loglevel='error')
        ffmpeg.run(stream)
        print(f"Converted: {input_path} -> {output_path}")
    except ffmpeg.Error as e:
        print(f"Error converting {input_path}: {e.stderr.decode()}")

def process_directory(input_dir, output_dir, output_ext):
    """Recursively process all video files in input_dir and save with the new extension in output_dir."""
    input_dir = Path(input_dir).resolve()
    output_dir = Path(output_dir).resolve()
    output_dir.mkdir(parents=True, exist_ok=True)

    for root, _, files in os.walk(input_dir):
        for file in files:
            input_file = Path(root) / file
            if input_file.suffix.lower() in VIDEO_EXTENSIONS:
                relative_path = input_file.relative_to(input_dir)
                output_file = output_dir / relative_path.with_suffix(output_ext)
                output_file.parent.mkdir(parents=True, exist_ok=True)
                convert_video(str(input_file), str(output_file))

def main():
    input_directory = input("Enter the input directory path containing video files: ").strip()
    output_directory = input("Enter the output directory path for converted files: ").strip()
    output_format = input("Enter the desired output video format (e.g., .mp4, .mkv, .ts): ").strip().lower()

    if not output_format.startswith('.'):
        output_format = '.' + output_format

    if not os.path.exists(input_directory):
        print(f"Error: Input directory '{input_directory}' does not exist.")
        return

    if output_format not in VIDEO_EXTENSIONS:
        print(f"Warning: '{output_format}' is not a common video format, but proceeding anyway.")

    print(f"Processing files from {input_directory} to {output_format} format...")
    process_directory(input_directory, output_directory, output_format)
    print("Conversion complete!")

if __name__ == "__main__":
    main()
